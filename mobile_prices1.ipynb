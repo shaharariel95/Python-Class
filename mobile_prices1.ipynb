{
 "cells": [
  {
   "cell_type": "code",
   "execution_count": 28,
   "outputs": [],
   "source": [
    "import pandas as pd\n",
    "import numpy as np"
   ],
   "metadata": {
    "collapsed": false
   }
  },
  {
   "cell_type": "markdown",
   "source": [
    "Task 1: 1)"
   ],
   "metadata": {
    "collapsed": false
   }
  },
  {
   "cell_type": "code",
   "execution_count": 29,
   "outputs": [
    {
     "ename": "SyntaxError",
     "evalue": "invalid syntax (1213578655.py, line 1)",
     "output_type": "error",
     "traceback": [
      "\u001B[1;36m  Cell \u001B[1;32mIn[29], line 1\u001B[1;36m\u001B[0m\n\u001B[1;33m    *(loading, the, csv, into, the, dataframe, */)\u001B[0m\n\u001B[1;37m                                                ^\u001B[0m\n\u001B[1;31mSyntaxError\u001B[0m\u001B[1;31m:\u001B[0m invalid syntax\n"
     ]
    }
   ],
   "source": [
    "/* loading the csv into the dataframe */\n",
    "data = pd.read_csv(\"mobile_price_1.csv\")\n",
    "df = pd.DataFrame(data)"
   ],
   "metadata": {
    "collapsed": false
   }
  },
  {
   "cell_type": "markdown",
   "source": [
    "Task 1: 2)\n",
    "           bluetooth - nominal\n",
    "           gen - ordinal\n",
    "           cores - ordinal\n",
    "           speed - ordinal\n",
    "           sim - nominal\n",
    "           screen - nominal\n",
    "           Wi-Fi - nominal"
   ],
   "metadata": {
    "collapsed": false
   }
  },
  {
   "cell_type": "markdown",
   "source": [
    "Task 1: 3)"
   ],
   "metadata": {
    "collapsed": false
   }
  },
  {
   "cell_type": "code",
   "execution_count": 30,
   "outputs": [],
   "source": [
    "df['resolution']=df['px_width'].astype(str) + \"X\" + df['px_height'].astype(str)"
   ],
   "metadata": {
    "collapsed": false
   }
  },
  {
   "cell_type": "markdown",
   "source": [
    "Task 1: 4)"
   ],
   "metadata": {
    "collapsed": false
   }
  },
  {
   "cell_type": "code",
   "execution_count": 31,
   "outputs": [],
   "source": [
    "df['DPI_w']=df['px_width']/(df['sc_w']/2.54)\n",
    "df['DPI_w']=df['DPI_w'].replace(np.inf,np.nan)\n",
    "mean = df['DPI_w'].mean()\n",
    "df['DPI_w']=df['DPI_w'].replace(np.nan,mean)"
   ],
   "metadata": {
    "collapsed": false
   }
  },
  {
   "cell_type": "markdown",
   "source": [
    "Task 1: 5)"
   ],
   "metadata": {
    "collapsed": false
   }
  },
  {
   "cell_type": "code",
   "execution_count": 35,
   "outputs": [
    {
     "name": "stdout",
     "output_type": "stream",
     "text": [
      "57.000000     4\n",
      "206.000000    3\n",
      "321.500000    3\n",
      "43.000000     3\n",
      "178.000000    3\n",
      "             ..\n",
      "119.533333    1\n",
      "157.500000    1\n",
      "85.583333     1\n",
      "120.000000    1\n",
      "255.000000    1\n",
      "Name: call_ratio, Length: 1844, dtype: int64\n"
     ]
    }
   ],
   "source": [
    "df['call_ratio']=df['battery_power']/df['talk_time']\n",
    "df['call_ratio']=df['call_ratio'].replace(np.inf,np.nan)\n",
    "mean = df['call_ratio'].mean()\n",
    "df['call_ratio']=df['call_ratio'].replace(np.nan,mean)"
   ],
   "metadata": {
    "collapsed": false
   }
  },
  {
   "cell_type": "markdown",
   "source": [
    "Task 1: 6)"
   ],
   "metadata": {
    "collapsed": false
   }
  },
  {
   "cell_type": "code",
   "execution_count": null,
   "outputs": [],
   "source": [
    "df['memory']=df['memory']/1024"
   ],
   "metadata": {
    "collapsed": false
   }
  },
  {
   "cell_type": "markdown",
   "source": [
    "task1: 7)"
   ],
   "metadata": {
    "collapsed": false
   }
  },
  {
   "cell_type": "code",
   "execution_count": 36,
   "outputs": [
    {
     "data": {
      "text/plain": "                id  battery_power        m_dep    mobile_wt    px_height  \\\ncount  2000.000000    2000.000000  2000.000000  2000.000000  2000.000000   \nmean    999.500000    1238.518500     0.501750   140.249000   645.108000   \nstd     577.494589     439.418206     0.288416    35.399655   443.780811   \nmin       0.000000     501.000000     0.100000    80.000000     0.000000   \n25%     499.750000     851.750000     0.200000   109.000000   282.750000   \n50%     999.500000    1226.000000     0.500000   141.000000   564.000000   \n75%    1499.250000    1615.250000     0.800000   170.000000   947.250000   \nmax    1999.000000    1998.000000     1.000000   200.000000  1960.000000   \n\n          px_width          ram         sc_h         sc_w    talk_time  \\\ncount  2000.000000  2000.000000  2000.000000  2000.000000  2000.000000   \nmean   1251.515500  2124.213000    12.306500     5.767000    11.011000   \nstd     432.199447  1084.732044     4.213245     4.356398     5.463955   \nmin     500.000000   256.000000     5.000000     0.000000     2.000000   \n25%     874.750000  1207.500000     9.000000     2.000000     6.000000   \n50%    1247.000000  2146.500000    12.000000     5.000000    11.000000   \n75%    1633.000000  3064.500000    16.000000     9.000000    16.000000   \nmax    1998.000000  3998.000000    19.000000    18.000000    20.000000   \n\n               gen     f_camera       camera        memory       price  \\\ncount  2000.000000  1526.000000  1899.000000   2000.000000  2000.00000   \nmean      3.283000     5.648100    10.443918  32546.259000   862.02435   \nstd       0.824773     4.140169     5.763826  18161.462247   230.26348   \nmin       2.000000     1.000000     1.000000   1954.000000   307.11000   \n25%       3.000000     2.000000     6.000000  16421.000000   698.46750   \n50%       4.000000     5.000000    10.000000  32303.000000   837.63000   \n75%       4.000000     8.000000    15.000000  48340.250000  1006.71250   \nmax       4.000000    19.000000    20.000000  64922.000000  1728.97000   \n\n             DPI_w   call_ratio  \ncount  2000.000000  2000.000000  \nmean    931.176483   166.672629  \nstd     946.931427   156.664965  \nmin      81.280000    25.100000  \n25%     339.634286    75.737500  \n50%     599.186000   111.369318  \n75%    1002.506250   186.193750  \nmax    5057.140000   989.500000  ",
      "text/html": "<div>\n<style scoped>\n    .dataframe tbody tr th:only-of-type {\n        vertical-align: middle;\n    }\n\n    .dataframe tbody tr th {\n        vertical-align: top;\n    }\n\n    .dataframe thead th {\n        text-align: right;\n    }\n</style>\n<table border=\"1\" class=\"dataframe\">\n  <thead>\n    <tr style=\"text-align: right;\">\n      <th></th>\n      <th>id</th>\n      <th>battery_power</th>\n      <th>m_dep</th>\n      <th>mobile_wt</th>\n      <th>px_height</th>\n      <th>px_width</th>\n      <th>ram</th>\n      <th>sc_h</th>\n      <th>sc_w</th>\n      <th>talk_time</th>\n      <th>gen</th>\n      <th>f_camera</th>\n      <th>camera</th>\n      <th>memory</th>\n      <th>price</th>\n      <th>DPI_w</th>\n      <th>call_ratio</th>\n    </tr>\n  </thead>\n  <tbody>\n    <tr>\n      <th>count</th>\n      <td>2000.000000</td>\n      <td>2000.000000</td>\n      <td>2000.000000</td>\n      <td>2000.000000</td>\n      <td>2000.000000</td>\n      <td>2000.000000</td>\n      <td>2000.000000</td>\n      <td>2000.000000</td>\n      <td>2000.000000</td>\n      <td>2000.000000</td>\n      <td>2000.000000</td>\n      <td>1526.000000</td>\n      <td>1899.000000</td>\n      <td>2000.000000</td>\n      <td>2000.00000</td>\n      <td>2000.000000</td>\n      <td>2000.000000</td>\n    </tr>\n    <tr>\n      <th>mean</th>\n      <td>999.500000</td>\n      <td>1238.518500</td>\n      <td>0.501750</td>\n      <td>140.249000</td>\n      <td>645.108000</td>\n      <td>1251.515500</td>\n      <td>2124.213000</td>\n      <td>12.306500</td>\n      <td>5.767000</td>\n      <td>11.011000</td>\n      <td>3.283000</td>\n      <td>5.648100</td>\n      <td>10.443918</td>\n      <td>32546.259000</td>\n      <td>862.02435</td>\n      <td>931.176483</td>\n      <td>166.672629</td>\n    </tr>\n    <tr>\n      <th>std</th>\n      <td>577.494589</td>\n      <td>439.418206</td>\n      <td>0.288416</td>\n      <td>35.399655</td>\n      <td>443.780811</td>\n      <td>432.199447</td>\n      <td>1084.732044</td>\n      <td>4.213245</td>\n      <td>4.356398</td>\n      <td>5.463955</td>\n      <td>0.824773</td>\n      <td>4.140169</td>\n      <td>5.763826</td>\n      <td>18161.462247</td>\n      <td>230.26348</td>\n      <td>946.931427</td>\n      <td>156.664965</td>\n    </tr>\n    <tr>\n      <th>min</th>\n      <td>0.000000</td>\n      <td>501.000000</td>\n      <td>0.100000</td>\n      <td>80.000000</td>\n      <td>0.000000</td>\n      <td>500.000000</td>\n      <td>256.000000</td>\n      <td>5.000000</td>\n      <td>0.000000</td>\n      <td>2.000000</td>\n      <td>2.000000</td>\n      <td>1.000000</td>\n      <td>1.000000</td>\n      <td>1954.000000</td>\n      <td>307.11000</td>\n      <td>81.280000</td>\n      <td>25.100000</td>\n    </tr>\n    <tr>\n      <th>25%</th>\n      <td>499.750000</td>\n      <td>851.750000</td>\n      <td>0.200000</td>\n      <td>109.000000</td>\n      <td>282.750000</td>\n      <td>874.750000</td>\n      <td>1207.500000</td>\n      <td>9.000000</td>\n      <td>2.000000</td>\n      <td>6.000000</td>\n      <td>3.000000</td>\n      <td>2.000000</td>\n      <td>6.000000</td>\n      <td>16421.000000</td>\n      <td>698.46750</td>\n      <td>339.634286</td>\n      <td>75.737500</td>\n    </tr>\n    <tr>\n      <th>50%</th>\n      <td>999.500000</td>\n      <td>1226.000000</td>\n      <td>0.500000</td>\n      <td>141.000000</td>\n      <td>564.000000</td>\n      <td>1247.000000</td>\n      <td>2146.500000</td>\n      <td>12.000000</td>\n      <td>5.000000</td>\n      <td>11.000000</td>\n      <td>4.000000</td>\n      <td>5.000000</td>\n      <td>10.000000</td>\n      <td>32303.000000</td>\n      <td>837.63000</td>\n      <td>599.186000</td>\n      <td>111.369318</td>\n    </tr>\n    <tr>\n      <th>75%</th>\n      <td>1499.250000</td>\n      <td>1615.250000</td>\n      <td>0.800000</td>\n      <td>170.000000</td>\n      <td>947.250000</td>\n      <td>1633.000000</td>\n      <td>3064.500000</td>\n      <td>16.000000</td>\n      <td>9.000000</td>\n      <td>16.000000</td>\n      <td>4.000000</td>\n      <td>8.000000</td>\n      <td>15.000000</td>\n      <td>48340.250000</td>\n      <td>1006.71250</td>\n      <td>1002.506250</td>\n      <td>186.193750</td>\n    </tr>\n    <tr>\n      <th>max</th>\n      <td>1999.000000</td>\n      <td>1998.000000</td>\n      <td>1.000000</td>\n      <td>200.000000</td>\n      <td>1960.000000</td>\n      <td>1998.000000</td>\n      <td>3998.000000</td>\n      <td>19.000000</td>\n      <td>18.000000</td>\n      <td>20.000000</td>\n      <td>4.000000</td>\n      <td>19.000000</td>\n      <td>20.000000</td>\n      <td>64922.000000</td>\n      <td>1728.97000</td>\n      <td>5057.140000</td>\n      <td>989.500000</td>\n    </tr>\n  </tbody>\n</table>\n</div>"
     },
     "execution_count": 36,
     "metadata": {},
     "output_type": "execute_result"
    }
   ],
   "source": [
    "df.describe()"
   ],
   "metadata": {
    "collapsed": false
   }
  },
  {
   "cell_type": "markdown",
   "source": [
    "Task 1: 8)"
   ],
   "metadata": {
    "collapsed": false
   }
  },
  {
   "cell_type": "code",
   "execution_count": 41,
   "outputs": [
    {
     "name": "stdout",
     "output_type": "stream",
     "text": [
      "0       medium\n",
      "1          low\n",
      "2          low\n",
      "3         high\n",
      "4       medium\n",
      "         ...  \n",
      "1995       low\n",
      "1996      high\n",
      "1997       low\n",
      "1998       low\n",
      "1999    medium\n",
      "Name: speed, Length: 2000, dtype: category\n",
      "Categories (3, object): ['low' < 'medium' < 'high'] 0         LCD\n",
      "1       Touch\n",
      "2       Touch\n",
      "3         LCD\n",
      "4       Touch\n",
      "        ...  \n",
      "1995    Touch\n",
      "1996    Touch\n",
      "1997    Touch\n",
      "1998    Touch\n",
      "1999    Touch\n",
      "Name: screen, Length: 2000, dtype: category\n",
      "Categories (2, object): ['LCD', 'Touch'] 0         dual\n",
      "1       triple\n",
      "2        penta\n",
      "3         hexa\n",
      "4         dual\n",
      "         ...  \n",
      "1995      hexa\n",
      "1996      quad\n",
      "1997      octa\n",
      "1998     penta\n",
      "1999      hexa\n",
      "Name: cores, Length: 2000, dtype: category\n",
      "Categories (8, object): ['single' < 'dual' < 'triple' < 'quad' < 'penta' < 'hexa' < 'hepta' < 'octa']\n"
     ]
    }
   ],
   "source": [
    "df['speed'] = pd.Categorical(df['speed'], categories=['low', 'medium', 'high'],ordered=True)\n",
    "df['screen'] = pd.Categorical(df['screen'], categories=['LCD', 'Touch'],ordered=False)\n",
    "df['cores'] = pd.Categorical(df['cores'], categories=['single', 'dual', 'triple','quad','penta','hexa','hepta','octa'],ordered=True)"
   ],
   "metadata": {
    "collapsed": false
   }
  },
  {
   "cell_type": "markdown",
   "source": [
    "Task 2: 1)"
   ],
   "metadata": {
    "collapsed": false
   }
  },
  {
   "cell_type": "code",
   "execution_count": 48,
   "outputs": [
    {
     "data": {
      "text/plain": "101"
     },
     "execution_count": 48,
     "metadata": {},
     "output_type": "execute_result"
    }
   ],
   "source": [
    "(df['camera'].isna() * df['f_camera'].isna()).sum()"
   ],
   "metadata": {
    "collapsed": false
   }
  },
  {
   "cell_type": "markdown",
   "source": [
    "Task2: 2)"
   ],
   "metadata": {
    "collapsed": false
   }
  },
  {
   "cell_type": "code",
   "execution_count": 51,
   "outputs": [
    {
     "ename": "ValueError",
     "evalue": "The truth value of a Series is ambiguous. Use a.empty, a.bool(), a.item(), a.any() or a.all().",
     "output_type": "error",
     "traceback": [
      "\u001B[1;31m---------------------------------------------------------------------------\u001B[0m",
      "\u001B[1;31mValueError\u001B[0m                                Traceback (most recent call last)",
      "Cell \u001B[1;32mIn[51], line 1\u001B[0m\n\u001B[1;32m----> 1\u001B[0m df\u001B[38;5;241m.\u001B[39mloc[df[\u001B[38;5;124m'\u001B[39m\u001B[38;5;124msim\u001B[39m\u001B[38;5;124m'\u001B[39m]\u001B[38;5;241m==\u001B[39m\u001B[38;5;124m'\u001B[39m\u001B[38;5;124mSingle\u001B[39m\u001B[38;5;124m'\u001B[39m \u001B[38;5;241m*\u001B[39m (df[\u001B[38;5;124m'\u001B[39m\u001B[38;5;124mcamera\u001B[39m\u001B[38;5;124m'\u001B[39m] \u001B[38;5;241m>\u001B[39m \u001B[38;5;241m12\u001B[39m \u001B[38;5;241m+\u001B[39m df[\u001B[38;5;124m'\u001B[39m\u001B[38;5;124mf_camera\u001B[39m\u001B[38;5;124m'\u001B[39m] \u001B[38;5;241m>\u001B[39m \u001B[38;5;241m12\u001B[39m)]\n",
      "File \u001B[1;32m~\\Desktop\\Dev\\Pyhton\\PythonAss2\\venv\\lib\\site-packages\\pandas\\core\\generic.py:1527\u001B[0m, in \u001B[0;36mNDFrame.__nonzero__\u001B[1;34m(self)\u001B[0m\n\u001B[0;32m   1525\u001B[0m \u001B[38;5;129m@final\u001B[39m\n\u001B[0;32m   1526\u001B[0m \u001B[38;5;28;01mdef\u001B[39;00m \u001B[38;5;21m__nonzero__\u001B[39m(\u001B[38;5;28mself\u001B[39m) \u001B[38;5;241m-\u001B[39m\u001B[38;5;241m>\u001B[39m NoReturn:\n\u001B[1;32m-> 1527\u001B[0m     \u001B[38;5;28;01mraise\u001B[39;00m \u001B[38;5;167;01mValueError\u001B[39;00m(\n\u001B[0;32m   1528\u001B[0m         \u001B[38;5;124mf\u001B[39m\u001B[38;5;124m\"\u001B[39m\u001B[38;5;124mThe truth value of a \u001B[39m\u001B[38;5;132;01m{\u001B[39;00m\u001B[38;5;28mtype\u001B[39m(\u001B[38;5;28mself\u001B[39m)\u001B[38;5;241m.\u001B[39m\u001B[38;5;18m__name__\u001B[39m\u001B[38;5;132;01m}\u001B[39;00m\u001B[38;5;124m is ambiguous. \u001B[39m\u001B[38;5;124m\"\u001B[39m\n\u001B[0;32m   1529\u001B[0m         \u001B[38;5;124m\"\u001B[39m\u001B[38;5;124mUse a.empty, a.bool(), a.item(), a.any() or a.all().\u001B[39m\u001B[38;5;124m\"\u001B[39m\n\u001B[0;32m   1530\u001B[0m     )\n",
      "\u001B[1;31mValueError\u001B[0m: The truth value of a Series is ambiguous. Use a.empty, a.bool(), a.item(), a.any() or a.all()."
     ]
    }
   ],
   "source": [
    "df.loc[df['sim']=='Single' * (df['camera'] > 12 + df['f_camera'] > 12)]"
   ],
   "metadata": {
    "collapsed": false
   }
  },
  {
   "cell_type": "code",
   "execution_count": 65,
   "outputs": [
    {
     "data": {
      "text/plain": "1266.741935483871"
     },
     "execution_count": 65,
     "metadata": {},
     "output_type": "execute_result"
    }
   ],
   "source": [
    "df[(df['sim'] == 'Single') & ((df['camera'] > 12) | (df['f_camera'] > 12))]['battery_power'].mean()"
   ],
   "metadata": {
    "collapsed": false
   }
  },
  {
   "cell_type": "markdown",
   "source": [
    "Task 2: 3)"
   ],
   "metadata": {
    "collapsed": false
   }
  },
  {
   "cell_type": "code",
   "execution_count": 84,
   "outputs": [
    {
     "data": {
      "text/plain": "770    770\nName: id, dtype: int64"
     },
     "execution_count": 84,
     "metadata": {},
     "output_type": "execute_result"
    }
   ],
   "source": [
    "m_price=[df[(df['wifi'] == 'none') & (df['screen'] == 'Touch') & (df['mobile_wt'] > 145)]['price'].max()]\n",
    "df[(df['price']==m_price[0])]['id']"
   ],
   "metadata": {
    "collapsed": false
   }
  },
  {
   "cell_type": "markdown",
   "source": [
    "Task 2: 4)"
   ],
   "metadata": {
    "collapsed": false
   }
  },
  {
   "cell_type": "code",
   "execution_count": 124,
   "outputs": [
    {
     "name": "stdout",
     "output_type": "stream",
     "text": [
      "0        (2146.5, 3064.5]\n",
      "1        (2146.5, 3064.5]\n",
      "2        (2146.5, 3064.5]\n",
      "3        (2146.5, 3064.5]\n",
      "4        (1207.5, 2146.5]\n",
      "              ...        \n",
      "1995    (255.999, 1207.5]\n",
      "1996     (1207.5, 2146.5]\n",
      "1997     (2146.5, 3064.5]\n",
      "1998    (255.999, 1207.5]\n",
      "1999     (3064.5, 3998.0]\n",
      "Name: ram, Length: 2000, dtype: category\n",
      "Categories (4, interval[float64, right]): [(255.999, 1207.5] < (1207.5, 2146.5] < (2146.5, 3064.5] < (3064.5, 3998.0]]\n",
      "category\n"
     ]
    },
    {
     "data": {
      "text/plain": "Empty DataFrame\nColumns: []\nIndex: []",
      "text/html": "<div>\n<style scoped>\n    .dataframe tbody tr th:only-of-type {\n        vertical-align: middle;\n    }\n\n    .dataframe tbody tr th {\n        vertical-align: top;\n    }\n\n    .dataframe thead th {\n        text-align: right;\n    }\n</style>\n<table border=\"1\" class=\"dataframe\">\n  <thead>\n    <tr style=\"text-align: right;\">\n      <th>ram</th>\n    </tr>\n    <tr>\n      <th>gen</th>\n    </tr>\n  </thead>\n  <tbody>\n  </tbody>\n</table>\n</div>"
     },
     "execution_count": 124,
     "metadata": {},
     "output_type": "execute_result"
    }
   ],
   "source": [
    "quantile = pd.qcut(x=df['ram'],q=4)\n",
    "df_cpy=df.copy()\n",
    "df_cpy['gen'] = pd.Categorical(df['gen'], categories=['2', '3', '4'],ordered=True)\n",
    "df_cpy['ram'] = quantile\n",
    "print(df_cpy['ram'])\n",
    "print(df_cpy.gen.dtype)\n",
    "df_cpy.pivot_table('bluetooth',index='gen',columns='ram')"
   ],
   "metadata": {
    "collapsed": false
   }
  },
  {
   "cell_type": "code",
   "execution_count": 99,
   "outputs": [
    {
     "data": {
      "text/plain": "0.25    1207.5\n0.50    2146.5\n0.75    3064.5\n1.00    3998.0\nName: ram, dtype: float64"
     },
     "execution_count": 99,
     "metadata": {},
     "output_type": "execute_result"
    }
   ],
   "source": [
    "df['ram'].quantile([0.25,0.5,0.75,1])"
   ],
   "metadata": {
    "collapsed": false
   }
  }
 ],
 "metadata": {
  "kernelspec": {
   "display_name": "Python 3",
   "language": "python",
   "name": "python3"
  },
  "language_info": {
   "codemirror_mode": {
    "name": "ipython",
    "version": 2
   },
   "file_extension": ".py",
   "mimetype": "text/x-python",
   "name": "python",
   "nbconvert_exporter": "python",
   "pygments_lexer": "ipython2",
   "version": "2.7.6"
  }
 },
 "nbformat": 4,
 "nbformat_minor": 0
}
