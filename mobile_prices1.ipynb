{
 "cells": [
  {
   "cell_type": "code",
   "execution_count": 6,
   "outputs": [],
   "source": [
    "import pandas as pd\n",
    "import numpy as np"
   ],
   "metadata": {
    "id": "fH0JxrJn8Ou5"
   }
  },
  {
   "cell_type": "markdown",
   "source": [
    "Task 1: 1)"
   ],
   "metadata": {
    "collapsed": false,
    "id": "EVxhWafr8Ou_"
   }
  },
  {
   "cell_type": "code",
   "execution_count": 7,
   "outputs": [],
   "source": [
    "data = pd.read_csv(\"mobile_price_1.csv\")\n",
    "df = pd.DataFrame(data)"
   ],
   "metadata": {
    "id": "tB9LvP7H8OvG"
   }
  },
  {
   "cell_type": "markdown",
   "source": [
    "Task 1: 2)\n",
    "           bluetooth - nominal\n",
    "           gen - ordinal\n",
    "           cores - ordinal\n",
    "           speed - ordinal\n",
    "           sim - nominal\n",
    "           screen - nominal\n",
    "           Wi-Fi - nominal"
   ],
   "metadata": {
    "collapsed": false,
    "id": "JvsWgn2Y8OvI"
   }
  },
  {
   "cell_type": "markdown",
   "source": [
    "Task 1: 3)"
   ],
   "metadata": {
    "collapsed": false,
    "id": "xQSU4Sif8OvK"
   }
  },
  {
   "cell_type": "code",
   "execution_count": 8,
   "outputs": [],
   "source": [
    "df['resolution']=df['px_width'].astype(str) + \"X\" + df['px_height'].astype(str)"
   ],
   "metadata": {
    "id": "swWHUOYV8OvM"
   }
  },
  {
   "cell_type": "markdown",
   "source": [
    "Task 1: 4)"
   ],
   "metadata": {
    "collapsed": false,
    "id": "yWIiGep58OvO"
   }
  },
  {
   "cell_type": "code",
   "execution_count": 9,
   "outputs": [],
   "source": [
    "df['DPI_w']=df['px_width']/(df['sc_w']/2.54)\n",
    "df['DPI_w']=df['DPI_w'].replace(np.inf,np.nan)\n",
    "mean = df['DPI_w'].mean()\n",
    "df['DPI_w']=df['DPI_w'].replace(np.nan,mean)"
   ],
   "metadata": {
    "id": "dlT-hwdn8OvO"
   }
  },
  {
   "cell_type": "markdown",
   "source": [
    "Task 1: 5)"
   ],
   "metadata": {
    "collapsed": false,
    "id": "bSA01v6o8OvQ"
   }
  },
  {
   "cell_type": "code",
   "execution_count": 10,
   "outputs": [],
   "source": [
    "df['call_ratio']=df['battery_power']/df['talk_time']\n",
    "df['call_ratio']=df['call_ratio'].replace(np.inf,np.nan)\n",
    "mean = df['call_ratio'].mean()\n",
    "df['call_ratio']=df['call_ratio'].replace(np.nan,mean)"
   ],
   "metadata": {
    "id": "p_2klXho8OvT"
   }
  },
  {
   "cell_type": "markdown",
   "source": [
    "Task 1: 6)"
   ],
   "metadata": {
    "collapsed": false,
    "id": "UXYlFmbb8OvY"
   }
  },
  {
   "cell_type": "code",
   "execution_count": 11,
   "outputs": [],
   "source": [
    "df['memory']=df['memory']/1024"
   ],
   "metadata": {
    "id": "VeYjLmN-8Ova"
   }
  },
  {
   "cell_type": "markdown",
   "source": [
    "task1: 7)"
   ],
   "metadata": {
    "collapsed": false,
    "id": "iyzngCoc8Ovc"
   }
  },
  {
   "cell_type": "code",
   "execution_count": 12,
   "outputs": [
    {
     "output_type": "execute_result",
     "data": {
      "text/plain": [
       "                id  battery_power        m_dep    mobile_wt    px_height  \\\n",
       "count  2000.000000    2000.000000  2000.000000  2000.000000  2000.000000   \n",
       "mean    999.500000    1238.518500     0.501750   140.249000   645.108000   \n",
       "std     577.494589     439.418206     0.288416    35.399655   443.780811   \n",
       "min       0.000000     501.000000     0.100000    80.000000     0.000000   \n",
       "25%     499.750000     851.750000     0.200000   109.000000   282.750000   \n",
       "50%     999.500000    1226.000000     0.500000   141.000000   564.000000   \n",
       "75%    1499.250000    1615.250000     0.800000   170.000000   947.250000   \n",
       "max    1999.000000    1998.000000     1.000000   200.000000  1960.000000   \n",
       "\n",
       "          px_width          ram         sc_h         sc_w    talk_time  \\\n",
       "count  2000.000000  2000.000000  2000.000000  2000.000000  2000.000000   \n",
       "mean   1251.515500  2124.213000    12.306500     5.767000    11.011000   \n",
       "std     432.199447  1084.732044     4.213245     4.356398     5.463955   \n",
       "min     500.000000   256.000000     5.000000     0.000000     2.000000   \n",
       "25%     874.750000  1207.500000     9.000000     2.000000     6.000000   \n",
       "50%    1247.000000  2146.500000    12.000000     5.000000    11.000000   \n",
       "75%    1633.000000  3064.500000    16.000000     9.000000    16.000000   \n",
       "max    1998.000000  3998.000000    19.000000    18.000000    20.000000   \n",
       "\n",
       "               gen     f_camera       camera       memory       price  \\\n",
       "count  2000.000000  1526.000000  1899.000000  2000.000000  2000.00000   \n",
       "mean      3.283000     5.648100    10.443918    31.783456   862.02435   \n",
       "std       0.824773     4.140169     5.763826    17.735803   230.26348   \n",
       "min       2.000000     1.000000     1.000000     1.908203   307.11000   \n",
       "25%       3.000000     2.000000     6.000000    16.036133   698.46750   \n",
       "50%       4.000000     5.000000    10.000000    31.545898   837.63000   \n",
       "75%       4.000000     8.000000    15.000000    47.207275  1006.71250   \n",
       "max       4.000000    19.000000    20.000000    63.400391  1728.97000   \n",
       "\n",
       "             DPI_w   call_ratio  \n",
       "count  2000.000000  2000.000000  \n",
       "mean    931.176483   166.672629  \n",
       "std     946.931427   156.664965  \n",
       "min      81.280000    25.100000  \n",
       "25%     339.634286    75.737500  \n",
       "50%     599.186000   111.369318  \n",
       "75%    1002.506250   186.193750  \n",
       "max    5057.140000   989.500000  "
      ],
      "text/html": [
       "\n",
       "  <div id=\"df-6006546d-6e2b-45be-af06-a23e09bf9675\">\n",
       "    <div class=\"colab-df-container\">\n",
       "      <div>\n",
       "<style scoped>\n",
       "    .dataframe tbody tr th:only-of-type {\n",
       "        vertical-align: middle;\n",
       "    }\n",
       "\n",
       "    .dataframe tbody tr th {\n",
       "        vertical-align: top;\n",
       "    }\n",
       "\n",
       "    .dataframe thead th {\n",
       "        text-align: right;\n",
       "    }\n",
       "</style>\n",
       "<table border=\"1\" class=\"dataframe\">\n",
       "  <thead>\n",
       "    <tr style=\"text-align: right;\">\n",
       "      <th></th>\n",
       "      <th>id</th>\n",
       "      <th>battery_power</th>\n",
       "      <th>m_dep</th>\n",
       "      <th>mobile_wt</th>\n",
       "      <th>px_height</th>\n",
       "      <th>px_width</th>\n",
       "      <th>ram</th>\n",
       "      <th>sc_h</th>\n",
       "      <th>sc_w</th>\n",
       "      <th>talk_time</th>\n",
       "      <th>gen</th>\n",
       "      <th>f_camera</th>\n",
       "      <th>camera</th>\n",
       "      <th>memory</th>\n",
       "      <th>price</th>\n",
       "      <th>DPI_w</th>\n",
       "      <th>call_ratio</th>\n",
       "    </tr>\n",
       "  </thead>\n",
       "  <tbody>\n",
       "    <tr>\n",
       "      <th>count</th>\n",
       "      <td>2000.000000</td>\n",
       "      <td>2000.000000</td>\n",
       "      <td>2000.000000</td>\n",
       "      <td>2000.000000</td>\n",
       "      <td>2000.000000</td>\n",
       "      <td>2000.000000</td>\n",
       "      <td>2000.000000</td>\n",
       "      <td>2000.000000</td>\n",
       "      <td>2000.000000</td>\n",
       "      <td>2000.000000</td>\n",
       "      <td>2000.000000</td>\n",
       "      <td>1526.000000</td>\n",
       "      <td>1899.000000</td>\n",
       "      <td>2000.000000</td>\n",
       "      <td>2000.00000</td>\n",
       "      <td>2000.000000</td>\n",
       "      <td>2000.000000</td>\n",
       "    </tr>\n",
       "    <tr>\n",
       "      <th>mean</th>\n",
       "      <td>999.500000</td>\n",
       "      <td>1238.518500</td>\n",
       "      <td>0.501750</td>\n",
       "      <td>140.249000</td>\n",
       "      <td>645.108000</td>\n",
       "      <td>1251.515500</td>\n",
       "      <td>2124.213000</td>\n",
       "      <td>12.306500</td>\n",
       "      <td>5.767000</td>\n",
       "      <td>11.011000</td>\n",
       "      <td>3.283000</td>\n",
       "      <td>5.648100</td>\n",
       "      <td>10.443918</td>\n",
       "      <td>31.783456</td>\n",
       "      <td>862.02435</td>\n",
       "      <td>931.176483</td>\n",
       "      <td>166.672629</td>\n",
       "    </tr>\n",
       "    <tr>\n",
       "      <th>std</th>\n",
       "      <td>577.494589</td>\n",
       "      <td>439.418206</td>\n",
       "      <td>0.288416</td>\n",
       "      <td>35.399655</td>\n",
       "      <td>443.780811</td>\n",
       "      <td>432.199447</td>\n",
       "      <td>1084.732044</td>\n",
       "      <td>4.213245</td>\n",
       "      <td>4.356398</td>\n",
       "      <td>5.463955</td>\n",
       "      <td>0.824773</td>\n",
       "      <td>4.140169</td>\n",
       "      <td>5.763826</td>\n",
       "      <td>17.735803</td>\n",
       "      <td>230.26348</td>\n",
       "      <td>946.931427</td>\n",
       "      <td>156.664965</td>\n",
       "    </tr>\n",
       "    <tr>\n",
       "      <th>min</th>\n",
       "      <td>0.000000</td>\n",
       "      <td>501.000000</td>\n",
       "      <td>0.100000</td>\n",
       "      <td>80.000000</td>\n",
       "      <td>0.000000</td>\n",
       "      <td>500.000000</td>\n",
       "      <td>256.000000</td>\n",
       "      <td>5.000000</td>\n",
       "      <td>0.000000</td>\n",
       "      <td>2.000000</td>\n",
       "      <td>2.000000</td>\n",
       "      <td>1.000000</td>\n",
       "      <td>1.000000</td>\n",
       "      <td>1.908203</td>\n",
       "      <td>307.11000</td>\n",
       "      <td>81.280000</td>\n",
       "      <td>25.100000</td>\n",
       "    </tr>\n",
       "    <tr>\n",
       "      <th>25%</th>\n",
       "      <td>499.750000</td>\n",
       "      <td>851.750000</td>\n",
       "      <td>0.200000</td>\n",
       "      <td>109.000000</td>\n",
       "      <td>282.750000</td>\n",
       "      <td>874.750000</td>\n",
       "      <td>1207.500000</td>\n",
       "      <td>9.000000</td>\n",
       "      <td>2.000000</td>\n",
       "      <td>6.000000</td>\n",
       "      <td>3.000000</td>\n",
       "      <td>2.000000</td>\n",
       "      <td>6.000000</td>\n",
       "      <td>16.036133</td>\n",
       "      <td>698.46750</td>\n",
       "      <td>339.634286</td>\n",
       "      <td>75.737500</td>\n",
       "    </tr>\n",
       "    <tr>\n",
       "      <th>50%</th>\n",
       "      <td>999.500000</td>\n",
       "      <td>1226.000000</td>\n",
       "      <td>0.500000</td>\n",
       "      <td>141.000000</td>\n",
       "      <td>564.000000</td>\n",
       "      <td>1247.000000</td>\n",
       "      <td>2146.500000</td>\n",
       "      <td>12.000000</td>\n",
       "      <td>5.000000</td>\n",
       "      <td>11.000000</td>\n",
       "      <td>4.000000</td>\n",
       "      <td>5.000000</td>\n",
       "      <td>10.000000</td>\n",
       "      <td>31.545898</td>\n",
       "      <td>837.63000</td>\n",
       "      <td>599.186000</td>\n",
       "      <td>111.369318</td>\n",
       "    </tr>\n",
       "    <tr>\n",
       "      <th>75%</th>\n",
       "      <td>1499.250000</td>\n",
       "      <td>1615.250000</td>\n",
       "      <td>0.800000</td>\n",
       "      <td>170.000000</td>\n",
       "      <td>947.250000</td>\n",
       "      <td>1633.000000</td>\n",
       "      <td>3064.500000</td>\n",
       "      <td>16.000000</td>\n",
       "      <td>9.000000</td>\n",
       "      <td>16.000000</td>\n",
       "      <td>4.000000</td>\n",
       "      <td>8.000000</td>\n",
       "      <td>15.000000</td>\n",
       "      <td>47.207275</td>\n",
       "      <td>1006.71250</td>\n",
       "      <td>1002.506250</td>\n",
       "      <td>186.193750</td>\n",
       "    </tr>\n",
       "    <tr>\n",
       "      <th>max</th>\n",
       "      <td>1999.000000</td>\n",
       "      <td>1998.000000</td>\n",
       "      <td>1.000000</td>\n",
       "      <td>200.000000</td>\n",
       "      <td>1960.000000</td>\n",
       "      <td>1998.000000</td>\n",
       "      <td>3998.000000</td>\n",
       "      <td>19.000000</td>\n",
       "      <td>18.000000</td>\n",
       "      <td>20.000000</td>\n",
       "      <td>4.000000</td>\n",
       "      <td>19.000000</td>\n",
       "      <td>20.000000</td>\n",
       "      <td>63.400391</td>\n",
       "      <td>1728.97000</td>\n",
       "      <td>5057.140000</td>\n",
       "      <td>989.500000</td>\n",
       "    </tr>\n",
       "  </tbody>\n",
       "</table>\n",
       "</div>\n",
       "      <button class=\"colab-df-convert\" onclick=\"convertToInteractive('df-6006546d-6e2b-45be-af06-a23e09bf9675')\"\n",
       "              title=\"Convert this dataframe to an interactive table.\"\n",
       "              style=\"display:none;\">\n",
       "        \n",
       "  <svg xmlns=\"http://www.w3.org/2000/svg\" height=\"24px\"viewBox=\"0 0 24 24\"\n",
       "       width=\"24px\">\n",
       "    <path d=\"M0 0h24v24H0V0z\" fill=\"none\"/>\n",
       "    <path d=\"M18.56 5.44l.94 2.06.94-2.06 2.06-.94-2.06-.94-.94-2.06-.94 2.06-2.06.94zm-11 1L8.5 8.5l.94-2.06 2.06-.94-2.06-.94L8.5 2.5l-.94 2.06-2.06.94zm10 10l.94 2.06.94-2.06 2.06-.94-2.06-.94-.94-2.06-.94 2.06-2.06.94z\"/><path d=\"M17.41 7.96l-1.37-1.37c-.4-.4-.92-.59-1.43-.59-.52 0-1.04.2-1.43.59L10.3 9.45l-7.72 7.72c-.78.78-.78 2.05 0 2.83L4 21.41c.39.39.9.59 1.41.59.51 0 1.02-.2 1.41-.59l7.78-7.78 2.81-2.81c.8-.78.8-2.07 0-2.86zM5.41 20L4 18.59l7.72-7.72 1.47 1.35L5.41 20z\"/>\n",
       "  </svg>\n",
       "      </button>\n",
       "      \n",
       "  <style>\n",
       "    .colab-df-container {\n",
       "      display:flex;\n",
       "      flex-wrap:wrap;\n",
       "      gap: 12px;\n",
       "    }\n",
       "\n",
       "    .colab-df-convert {\n",
       "      background-color: #E8F0FE;\n",
       "      border: none;\n",
       "      border-radius: 50%;\n",
       "      cursor: pointer;\n",
       "      display: none;\n",
       "      fill: #1967D2;\n",
       "      height: 32px;\n",
       "      padding: 0 0 0 0;\n",
       "      width: 32px;\n",
       "    }\n",
       "\n",
       "    .colab-df-convert:hover {\n",
       "      background-color: #E2EBFA;\n",
       "      box-shadow: 0px 1px 2px rgba(60, 64, 67, 0.3), 0px 1px 3px 1px rgba(60, 64, 67, 0.15);\n",
       "      fill: #174EA6;\n",
       "    }\n",
       "\n",
       "    [theme=dark] .colab-df-convert {\n",
       "      background-color: #3B4455;\n",
       "      fill: #D2E3FC;\n",
       "    }\n",
       "\n",
       "    [theme=dark] .colab-df-convert:hover {\n",
       "      background-color: #434B5C;\n",
       "      box-shadow: 0px 1px 3px 1px rgba(0, 0, 0, 0.15);\n",
       "      filter: drop-shadow(0px 1px 2px rgba(0, 0, 0, 0.3));\n",
       "      fill: #FFFFFF;\n",
       "    }\n",
       "  </style>\n",
       "\n",
       "      <script>\n",
       "        const buttonEl =\n",
       "          document.querySelector('#df-6006546d-6e2b-45be-af06-a23e09bf9675 button.colab-df-convert');\n",
       "        buttonEl.style.display =\n",
       "          google.colab.kernel.accessAllowed ? 'block' : 'none';\n",
       "\n",
       "        async function convertToInteractive(key) {\n",
       "          const element = document.querySelector('#df-6006546d-6e2b-45be-af06-a23e09bf9675');\n",
       "          const dataTable =\n",
       "            await google.colab.kernel.invokeFunction('convertToInteractive',\n",
       "                                                     [key], {});\n",
       "          if (!dataTable) return;\n",
       "\n",
       "          const docLinkHtml = 'Like what you see? Visit the ' +\n",
       "            '<a target=\"_blank\" href=https://colab.research.google.com/notebooks/data_table.ipynb>data table notebook</a>'\n",
       "            + ' to learn more about interactive tables.';\n",
       "          element.innerHTML = '';\n",
       "          dataTable['output_type'] = 'display_data';\n",
       "          await google.colab.output.renderOutput(dataTable, element);\n",
       "          const docLink = document.createElement('div');\n",
       "          docLink.innerHTML = docLinkHtml;\n",
       "          element.appendChild(docLink);\n",
       "        }\n",
       "      </script>\n",
       "    </div>\n",
       "  </div>\n",
       "  "
      ]
     },
     "metadata": {},
     "execution_count": 12
    }
   ],
   "source": [
    "df.describe()"
   ],
   "metadata": {
    "colab": {
     "base_uri": "https://localhost:8080/",
     "height": 300
    },
    "id": "vd1-UUVl8Ovd",
    "outputId": "4e54cd7e-50dc-4643-b9fd-344251cce4ce"
   }
  },
  {
   "cell_type": "markdown",
   "source": [
    "Task 1: 8)"
   ],
   "metadata": {
    "collapsed": false,
    "id": "nvkDN3PE8Ovf"
   }
  },
  {
   "cell_type": "code",
   "execution_count": 13,
   "outputs": [],
   "source": [
    "df['speed'] = pd.Categorical(df['speed'], categories=['low', 'medium', 'high'],ordered=True)\n",
    "df['screen'] = pd.Categorical(df['screen'], categories=['LCD', 'Touch'],ordered=False)\n",
    "df['cores'] = pd.Categorical(df['cores'], categories=['single', 'dual', 'triple','quad','penta','hexa','hepta','octa'],ordered=True)"
   ],
   "metadata": {
    "id": "kqW2J-P58Ovg"
   }
  },
  {
   "cell_type": "markdown",
   "source": [
    "Task 2: 1)"
   ],
   "metadata": {
    "collapsed": false,
    "id": "5B8S2xfs8Ovh"
   }
  },
  {
   "cell_type": "code",
   "execution_count": 14,
   "outputs": [
    {
     "output_type": "execute_result",
     "data": {
      "text/plain": [
       "101"
      ]
     },
     "metadata": {},
     "execution_count": 14
    }
   ],
   "source": [
    "(df['camera'].isna() * df['f_camera'].isna()).sum()"
   ],
   "metadata": {
    "colab": {
     "base_uri": "https://localhost:8080/"
    },
    "id": "gwy56Dkk8Ovh",
    "outputId": "8a698abe-a05c-49b5-d130-28ef76ed63a6"
   }
  },
  {
   "cell_type": "markdown",
   "source": [
    "Task2: 2)"
   ],
   "metadata": {
    "collapsed": false,
    "id": "tWU3ldbF8Ovi"
   }
  },
  {
   "cell_type": "code",
   "execution_count": 51,
   "outputs": [
    {
     "output_type": "execute_result",
     "data": {
      "text/plain": [
       "        id  battery_power  m_dep  mobile_wt  px_height  px_width   ram  sc_h  \\\n",
       "4        4           1821    0.6        141       1208      1212  1411     8   \n",
       "8        8           1445    0.7        174        386       836  1099    17   \n",
       "11      11           1520    0.5        177        151      1005  3826    14   \n",
       "12      12           1815    0.6        159        607       748  1482    18   \n",
       "14      14           1866    0.7        185        356       563   373    14   \n",
       "...    ...            ...    ...        ...        ...       ...   ...   ...   \n",
       "1981  1981           1454    0.4        199        698      1018  1300    10   \n",
       "1982  1982           1784    0.4        164        610      1437  2313    14   \n",
       "1985  1985           1829    0.1         91       1457      1919  3142    16   \n",
       "1987  1987            618    0.1         80        591       724  1424    15   \n",
       "1991  1991           1882    0.8        113          4       743  3579    19   \n",
       "\n",
       "      sc_w  talk_time  ...     sim  f_camera camera     memory screen  wifi  \\\n",
       "4        2         15  ...  Single      13.0   14.0  43.394531  Touch  none   \n",
       "8        1         20  ...  Single       NaN   14.0  52.192383    LCD  none   \n",
       "11       9         13  ...  Single       5.0   18.0  32.822266  Touch     n   \n",
       "12       0          2  ...  Single       2.0   17.0  33.057617    LCD  none   \n",
       "14       9          3  ...  Single      13.0   17.0  51.096680    LCD     g   \n",
       "...    ...        ...  ...     ...       ...    ...        ...    ...   ...   \n",
       "1981     0          2  ...  Single       8.0   20.0   6.555664    LCD     b   \n",
       "1982     1         11  ...  Single       4.0   20.0  40.873047  Touch  none   \n",
       "1985     6          5  ...  Single       8.0   15.0  57.990234  Touch     a   \n",
       "1987    12          7  ...  Single       9.0   15.0  13.181641  Touch  none   \n",
       "1991     8         20  ...  Single      11.0   19.0  43.353516  Touch  none   \n",
       "\n",
       "        price  resolution        DPI_w  call_ratio  \n",
       "4     1023.13   1212X1208  1539.240000  121.400000  \n",
       "8      590.74     836X386  2123.440000   72.250000  \n",
       "11     950.99    1005X151   283.633333  116.923077  \n",
       "12     576.30     748X607   931.176483  907.500000  \n",
       "14     738.11     563X356   158.891111  622.000000  \n",
       "...       ...         ...          ...         ...  \n",
       "1981   758.87    1018X698   931.176483  727.000000  \n",
       "1982   926.90    1437X610  3649.980000  162.181818  \n",
       "1985  1385.74   1919X1457   812.376667  365.800000  \n",
       "1987   815.24     724X591   153.246667   88.285714  \n",
       "1991  1169.87       743X4   235.902500   94.100000  \n",
       "\n",
       "[372 rows x 24 columns]"
      ],
      "text/html": [
       "\n",
       "  <div id=\"df-ed93a002-f27d-415f-9200-4880ee42a687\">\n",
       "    <div class=\"colab-df-container\">\n",
       "      <div>\n",
       "<style scoped>\n",
       "    .dataframe tbody tr th:only-of-type {\n",
       "        vertical-align: middle;\n",
       "    }\n",
       "\n",
       "    .dataframe tbody tr th {\n",
       "        vertical-align: top;\n",
       "    }\n",
       "\n",
       "    .dataframe thead th {\n",
       "        text-align: right;\n",
       "    }\n",
       "</style>\n",
       "<table border=\"1\" class=\"dataframe\">\n",
       "  <thead>\n",
       "    <tr style=\"text-align: right;\">\n",
       "      <th></th>\n",
       "      <th>id</th>\n",
       "      <th>battery_power</th>\n",
       "      <th>m_dep</th>\n",
       "      <th>mobile_wt</th>\n",
       "      <th>px_height</th>\n",
       "      <th>px_width</th>\n",
       "      <th>ram</th>\n",
       "      <th>sc_h</th>\n",
       "      <th>sc_w</th>\n",
       "      <th>talk_time</th>\n",
       "      <th>...</th>\n",
       "      <th>sim</th>\n",
       "      <th>f_camera</th>\n",
       "      <th>camera</th>\n",
       "      <th>memory</th>\n",
       "      <th>screen</th>\n",
       "      <th>wifi</th>\n",
       "      <th>price</th>\n",
       "      <th>resolution</th>\n",
       "      <th>DPI_w</th>\n",
       "      <th>call_ratio</th>\n",
       "    </tr>\n",
       "  </thead>\n",
       "  <tbody>\n",
       "    <tr>\n",
       "      <th>4</th>\n",
       "      <td>4</td>\n",
       "      <td>1821</td>\n",
       "      <td>0.6</td>\n",
       "      <td>141</td>\n",
       "      <td>1208</td>\n",
       "      <td>1212</td>\n",
       "      <td>1411</td>\n",
       "      <td>8</td>\n",
       "      <td>2</td>\n",
       "      <td>15</td>\n",
       "      <td>...</td>\n",
       "      <td>Single</td>\n",
       "      <td>13.0</td>\n",
       "      <td>14.0</td>\n",
       "      <td>43.394531</td>\n",
       "      <td>Touch</td>\n",
       "      <td>none</td>\n",
       "      <td>1023.13</td>\n",
       "      <td>1212X1208</td>\n",
       "      <td>1539.240000</td>\n",
       "      <td>121.400000</td>\n",
       "    </tr>\n",
       "    <tr>\n",
       "      <th>8</th>\n",
       "      <td>8</td>\n",
       "      <td>1445</td>\n",
       "      <td>0.7</td>\n",
       "      <td>174</td>\n",
       "      <td>386</td>\n",
       "      <td>836</td>\n",
       "      <td>1099</td>\n",
       "      <td>17</td>\n",
       "      <td>1</td>\n",
       "      <td>20</td>\n",
       "      <td>...</td>\n",
       "      <td>Single</td>\n",
       "      <td>NaN</td>\n",
       "      <td>14.0</td>\n",
       "      <td>52.192383</td>\n",
       "      <td>LCD</td>\n",
       "      <td>none</td>\n",
       "      <td>590.74</td>\n",
       "      <td>836X386</td>\n",
       "      <td>2123.440000</td>\n",
       "      <td>72.250000</td>\n",
       "    </tr>\n",
       "    <tr>\n",
       "      <th>11</th>\n",
       "      <td>11</td>\n",
       "      <td>1520</td>\n",
       "      <td>0.5</td>\n",
       "      <td>177</td>\n",
       "      <td>151</td>\n",
       "      <td>1005</td>\n",
       "      <td>3826</td>\n",
       "      <td>14</td>\n",
       "      <td>9</td>\n",
       "      <td>13</td>\n",
       "      <td>...</td>\n",
       "      <td>Single</td>\n",
       "      <td>5.0</td>\n",
       "      <td>18.0</td>\n",
       "      <td>32.822266</td>\n",
       "      <td>Touch</td>\n",
       "      <td>n</td>\n",
       "      <td>950.99</td>\n",
       "      <td>1005X151</td>\n",
       "      <td>283.633333</td>\n",
       "      <td>116.923077</td>\n",
       "    </tr>\n",
       "    <tr>\n",
       "      <th>12</th>\n",
       "      <td>12</td>\n",
       "      <td>1815</td>\n",
       "      <td>0.6</td>\n",
       "      <td>159</td>\n",
       "      <td>607</td>\n",
       "      <td>748</td>\n",
       "      <td>1482</td>\n",
       "      <td>18</td>\n",
       "      <td>0</td>\n",
       "      <td>2</td>\n",
       "      <td>...</td>\n",
       "      <td>Single</td>\n",
       "      <td>2.0</td>\n",
       "      <td>17.0</td>\n",
       "      <td>33.057617</td>\n",
       "      <td>LCD</td>\n",
       "      <td>none</td>\n",
       "      <td>576.30</td>\n",
       "      <td>748X607</td>\n",
       "      <td>931.176483</td>\n",
       "      <td>907.500000</td>\n",
       "    </tr>\n",
       "    <tr>\n",
       "      <th>14</th>\n",
       "      <td>14</td>\n",
       "      <td>1866</td>\n",
       "      <td>0.7</td>\n",
       "      <td>185</td>\n",
       "      <td>356</td>\n",
       "      <td>563</td>\n",
       "      <td>373</td>\n",
       "      <td>14</td>\n",
       "      <td>9</td>\n",
       "      <td>3</td>\n",
       "      <td>...</td>\n",
       "      <td>Single</td>\n",
       "      <td>13.0</td>\n",
       "      <td>17.0</td>\n",
       "      <td>51.096680</td>\n",
       "      <td>LCD</td>\n",
       "      <td>g</td>\n",
       "      <td>738.11</td>\n",
       "      <td>563X356</td>\n",
       "      <td>158.891111</td>\n",
       "      <td>622.000000</td>\n",
       "    </tr>\n",
       "    <tr>\n",
       "      <th>...</th>\n",
       "      <td>...</td>\n",
       "      <td>...</td>\n",
       "      <td>...</td>\n",
       "      <td>...</td>\n",
       "      <td>...</td>\n",
       "      <td>...</td>\n",
       "      <td>...</td>\n",
       "      <td>...</td>\n",
       "      <td>...</td>\n",
       "      <td>...</td>\n",
       "      <td>...</td>\n",
       "      <td>...</td>\n",
       "      <td>...</td>\n",
       "      <td>...</td>\n",
       "      <td>...</td>\n",
       "      <td>...</td>\n",
       "      <td>...</td>\n",
       "      <td>...</td>\n",
       "      <td>...</td>\n",
       "      <td>...</td>\n",
       "      <td>...</td>\n",
       "    </tr>\n",
       "    <tr>\n",
       "      <th>1981</th>\n",
       "      <td>1981</td>\n",
       "      <td>1454</td>\n",
       "      <td>0.4</td>\n",
       "      <td>199</td>\n",
       "      <td>698</td>\n",
       "      <td>1018</td>\n",
       "      <td>1300</td>\n",
       "      <td>10</td>\n",
       "      <td>0</td>\n",
       "      <td>2</td>\n",
       "      <td>...</td>\n",
       "      <td>Single</td>\n",
       "      <td>8.0</td>\n",
       "      <td>20.0</td>\n",
       "      <td>6.555664</td>\n",
       "      <td>LCD</td>\n",
       "      <td>b</td>\n",
       "      <td>758.87</td>\n",
       "      <td>1018X698</td>\n",
       "      <td>931.176483</td>\n",
       "      <td>727.000000</td>\n",
       "    </tr>\n",
       "    <tr>\n",
       "      <th>1982</th>\n",
       "      <td>1982</td>\n",
       "      <td>1784</td>\n",
       "      <td>0.4</td>\n",
       "      <td>164</td>\n",
       "      <td>610</td>\n",
       "      <td>1437</td>\n",
       "      <td>2313</td>\n",
       "      <td>14</td>\n",
       "      <td>1</td>\n",
       "      <td>11</td>\n",
       "      <td>...</td>\n",
       "      <td>Single</td>\n",
       "      <td>4.0</td>\n",
       "      <td>20.0</td>\n",
       "      <td>40.873047</td>\n",
       "      <td>Touch</td>\n",
       "      <td>none</td>\n",
       "      <td>926.90</td>\n",
       "      <td>1437X610</td>\n",
       "      <td>3649.980000</td>\n",
       "      <td>162.181818</td>\n",
       "    </tr>\n",
       "    <tr>\n",
       "      <th>1985</th>\n",
       "      <td>1985</td>\n",
       "      <td>1829</td>\n",
       "      <td>0.1</td>\n",
       "      <td>91</td>\n",
       "      <td>1457</td>\n",
       "      <td>1919</td>\n",
       "      <td>3142</td>\n",
       "      <td>16</td>\n",
       "      <td>6</td>\n",
       "      <td>5</td>\n",
       "      <td>...</td>\n",
       "      <td>Single</td>\n",
       "      <td>8.0</td>\n",
       "      <td>15.0</td>\n",
       "      <td>57.990234</td>\n",
       "      <td>Touch</td>\n",
       "      <td>a</td>\n",
       "      <td>1385.74</td>\n",
       "      <td>1919X1457</td>\n",
       "      <td>812.376667</td>\n",
       "      <td>365.800000</td>\n",
       "    </tr>\n",
       "    <tr>\n",
       "      <th>1987</th>\n",
       "      <td>1987</td>\n",
       "      <td>618</td>\n",
       "      <td>0.1</td>\n",
       "      <td>80</td>\n",
       "      <td>591</td>\n",
       "      <td>724</td>\n",
       "      <td>1424</td>\n",
       "      <td>15</td>\n",
       "      <td>12</td>\n",
       "      <td>7</td>\n",
       "      <td>...</td>\n",
       "      <td>Single</td>\n",
       "      <td>9.0</td>\n",
       "      <td>15.0</td>\n",
       "      <td>13.181641</td>\n",
       "      <td>Touch</td>\n",
       "      <td>none</td>\n",
       "      <td>815.24</td>\n",
       "      <td>724X591</td>\n",
       "      <td>153.246667</td>\n",
       "      <td>88.285714</td>\n",
       "    </tr>\n",
       "    <tr>\n",
       "      <th>1991</th>\n",
       "      <td>1991</td>\n",
       "      <td>1882</td>\n",
       "      <td>0.8</td>\n",
       "      <td>113</td>\n",
       "      <td>4</td>\n",
       "      <td>743</td>\n",
       "      <td>3579</td>\n",
       "      <td>19</td>\n",
       "      <td>8</td>\n",
       "      <td>20</td>\n",
       "      <td>...</td>\n",
       "      <td>Single</td>\n",
       "      <td>11.0</td>\n",
       "      <td>19.0</td>\n",
       "      <td>43.353516</td>\n",
       "      <td>Touch</td>\n",
       "      <td>none</td>\n",
       "      <td>1169.87</td>\n",
       "      <td>743X4</td>\n",
       "      <td>235.902500</td>\n",
       "      <td>94.100000</td>\n",
       "    </tr>\n",
       "  </tbody>\n",
       "</table>\n",
       "<p>372 rows × 24 columns</p>\n",
       "</div>\n",
       "      <button class=\"colab-df-convert\" onclick=\"convertToInteractive('df-ed93a002-f27d-415f-9200-4880ee42a687')\"\n",
       "              title=\"Convert this dataframe to an interactive table.\"\n",
       "              style=\"display:none;\">\n",
       "        \n",
       "  <svg xmlns=\"http://www.w3.org/2000/svg\" height=\"24px\"viewBox=\"0 0 24 24\"\n",
       "       width=\"24px\">\n",
       "    <path d=\"M0 0h24v24H0V0z\" fill=\"none\"/>\n",
       "    <path d=\"M18.56 5.44l.94 2.06.94-2.06 2.06-.94-2.06-.94-.94-2.06-.94 2.06-2.06.94zm-11 1L8.5 8.5l.94-2.06 2.06-.94-2.06-.94L8.5 2.5l-.94 2.06-2.06.94zm10 10l.94 2.06.94-2.06 2.06-.94-2.06-.94-.94-2.06-.94 2.06-2.06.94z\"/><path d=\"M17.41 7.96l-1.37-1.37c-.4-.4-.92-.59-1.43-.59-.52 0-1.04.2-1.43.59L10.3 9.45l-7.72 7.72c-.78.78-.78 2.05 0 2.83L4 21.41c.39.39.9.59 1.41.59.51 0 1.02-.2 1.41-.59l7.78-7.78 2.81-2.81c.8-.78.8-2.07 0-2.86zM5.41 20L4 18.59l7.72-7.72 1.47 1.35L5.41 20z\"/>\n",
       "  </svg>\n",
       "      </button>\n",
       "      \n",
       "  <style>\n",
       "    .colab-df-container {\n",
       "      display:flex;\n",
       "      flex-wrap:wrap;\n",
       "      gap: 12px;\n",
       "    }\n",
       "\n",
       "    .colab-df-convert {\n",
       "      background-color: #E8F0FE;\n",
       "      border: none;\n",
       "      border-radius: 50%;\n",
       "      cursor: pointer;\n",
       "      display: none;\n",
       "      fill: #1967D2;\n",
       "      height: 32px;\n",
       "      padding: 0 0 0 0;\n",
       "      width: 32px;\n",
       "    }\n",
       "\n",
       "    .colab-df-convert:hover {\n",
       "      background-color: #E2EBFA;\n",
       "      box-shadow: 0px 1px 2px rgba(60, 64, 67, 0.3), 0px 1px 3px 1px rgba(60, 64, 67, 0.15);\n",
       "      fill: #174EA6;\n",
       "    }\n",
       "\n",
       "    [theme=dark] .colab-df-convert {\n",
       "      background-color: #3B4455;\n",
       "      fill: #D2E3FC;\n",
       "    }\n",
       "\n",
       "    [theme=dark] .colab-df-convert:hover {\n",
       "      background-color: #434B5C;\n",
       "      box-shadow: 0px 1px 3px 1px rgba(0, 0, 0, 0.15);\n",
       "      filter: drop-shadow(0px 1px 2px rgba(0, 0, 0, 0.3));\n",
       "      fill: #FFFFFF;\n",
       "    }\n",
       "  </style>\n",
       "\n",
       "      <script>\n",
       "        const buttonEl =\n",
       "          document.querySelector('#df-ed93a002-f27d-415f-9200-4880ee42a687 button.colab-df-convert');\n",
       "        buttonEl.style.display =\n",
       "          google.colab.kernel.accessAllowed ? 'block' : 'none';\n",
       "\n",
       "        async function convertToInteractive(key) {\n",
       "          const element = document.querySelector('#df-ed93a002-f27d-415f-9200-4880ee42a687');\n",
       "          const dataTable =\n",
       "            await google.colab.kernel.invokeFunction('convertToInteractive',\n",
       "                                                     [key], {});\n",
       "          if (!dataTable) return;\n",
       "\n",
       "          const docLinkHtml = 'Like what you see? Visit the ' +\n",
       "            '<a target=\"_blank\" href=https://colab.research.google.com/notebooks/data_table.ipynb>data table notebook</a>'\n",
       "            + ' to learn more about interactive tables.';\n",
       "          element.innerHTML = '';\n",
       "          dataTable['output_type'] = 'display_data';\n",
       "          await google.colab.output.renderOutput(dataTable, element);\n",
       "          const docLink = document.createElement('div');\n",
       "          docLink.innerHTML = docLinkHtml;\n",
       "          element.appendChild(docLink);\n",
       "        }\n",
       "      </script>\n",
       "    </div>\n",
       "  </div>\n",
       "  "
      ]
     },
     "metadata": {},
     "execution_count": 51
    }
   ],
   "source": [
    "df.loc[(df['sim'] =='Single') & ((df['camera'] > 12) | (df['f_camera'] > 12))]"
   ],
   "metadata": {
    "colab": {
     "base_uri": "https://localhost:8080/",
     "height": 424
    },
    "id": "xn6XM4oQ8Ovj",
    "outputId": "de660d68-206a-4567-cf13-c5b71aee5be0"
   }
  },
  {
   "cell_type": "code",
   "execution_count": 27,
   "outputs": [
    {
     "output_type": "execute_result",
     "data": {
      "text/plain": [
       "1266.741935483871"
      ]
     },
     "metadata": {},
     "execution_count": 27
    }
   ],
   "source": [
    "df[(df['sim'] == 'Single') & ((df['camera'] > 12) | (df['f_camera'] > 12))]['battery_power'].mean()"
   ],
   "metadata": {
    "colab": {
     "base_uri": "https://localhost:8080/"
    },
    "id": "C69pmpb28Ovj",
    "outputId": "3214b861-9304-4a1b-f3de-1dbe0095383a"
   }
  },
  {
   "cell_type": "markdown",
   "source": [
    "Task 2: 3)"
   ],
   "metadata": {
    "collapsed": false,
    "id": "aBn_6XyM8Ovk"
   }
  },
  {
   "cell_type": "code",
   "execution_count": 37,
   "outputs": [
    {
     "output_type": "execute_result",
     "data": {
      "text/plain": [
       "770    770\n",
       "Name: id, dtype: int64"
      ]
     },
     "metadata": {},
     "execution_count": 37
    }
   ],
   "source": [
    "m_price=[df[(df['wifi'] == 'none') & (df['screen'] == 'Touch') & (df['mobile_wt'] > 145)]['price'].max()]\n",
    "df[(df['price']==m_price[0])]['id']"
   ],
   "metadata": {
    "colab": {
     "base_uri": "https://localhost:8080/"
    },
    "id": "hX7Jgjf-8Ovk",
    "outputId": "fd9e2698-7818-4763-b3ef-a45adeed73a8"
   }
  },
  {
   "cell_type": "markdown",
   "source": [
    "Task 2: 4)"
   ],
   "metadata": {
    "collapsed": false,
    "id": "f-twr2yx8Ovl"
   }
  },
  {
   "cell_type": "code",
   "execution_count": null,
   "outputs": [],
   "source": [
    "\n",
    "quantile = pd.qcut(x=df['ram'],q=4)\n",
    "df['bluetooth'] = pd.Categorical(df['bluetooth'], categories=['No', 'Yes'],ordered=False)\n",
    "\n",
    "df_cpy=df.copy()\n",
    "df_cpy['gen'] = pd.Categorical(df['gen'], categories=['2', '3', '4'],ordered=True)\n",
    "df_cpy['ram'] = quantile\n",
    "df_cpy['bluetooth'] = (df_cpy['bluetooth']=='Yes').astype(int)\n",
    "print(df_cpy['bluetooth'])\n",
    "def local_func(x):\n",
    "  (x.sum()/df_cpy['bluetooth'].sum())*100\n",
    "    \n",
    "\n",
    "df_cpy.pivot_table('bluetooth',index=df_cpy.gen,columns=df_cpy.ram,aggfunc=local_func).round(2)\n"
   ],
   "metadata": {
    "pycharm": {
     "is_executing": true
    },
    "colab": {
     "base_uri": "https://localhost:8080/",
     "height": 324
    },
    "id": "kIx5slOE8Ovl",
    "outputId": "70453585-ca90-47e8-b53e-73178ed311db"
   }
  },
  {
   "cell_type": "markdown",
   "source": [
    "Task 2: 5)"
   ],
   "metadata": {
    "id": "B1XQFjdSATs5"
   }
  },
  {
   "cell_type": "code",
   "source": [
    "new_df = (df[ (df['speed'] == 'medium') ][['id','battery_power','ram','talk_time','bluetooth','cores','sim','memory','price']]).sample(frac=0.5).copy()\n",
    "print(new_df)"
   ],
   "metadata": {
    "colab": {
     "base_uri": "https://localhost:8080/"
    },
    "id": "wYJgzyt5AW-P",
    "outputId": "bff929c0-9cfb-40c9-9a85-56f969794e25"
   },
   "execution_count": 34,
   "outputs": [
    {
     "output_type": "stream",
     "name": "stdout",
     "text": [
      "        id  battery_power   ram  talk_time bluetooth   cores     sim  \\\n",
      "1570  1570           1546   267         16       Yes    dual    Dual   \n",
      "945    945            832  3317         19        No    hexa  Single   \n",
      "558    558            723  2339         17       Yes  single  Single   \n",
      "1308  1308           1496  3571         11       Yes  triple    Dual   \n",
      "538    538            704  3653         15        No    hexa    Dual   \n",
      "...    ...            ...   ...        ...       ...     ...     ...   \n",
      "726    726            614  3487         11        No   hepta    Dual   \n",
      "292    292           1995  1203         18       Yes    hexa  Single   \n",
      "1932  1932            718  1601         12       Yes  triple    Dual   \n",
      "1506  1506            848  2289         19       Yes    quad    Dual   \n",
      "1639  1639           1768  3256          5       Yes   hepta  Single   \n",
      "\n",
      "         memory    price  \n",
      "1570  26.433594   839.59  \n",
      "945   45.281250  1052.31  \n",
      "558   30.019531   665.28  \n",
      "1308   6.171875  1199.38  \n",
      "538   51.863281   721.15  \n",
      "...         ...      ...  \n",
      "726   56.834961   751.78  \n",
      "292    9.278320  1271.96  \n",
      "1932  30.084961   765.10  \n",
      "1506  35.471680   942.27  \n",
      "1639   2.826172  1261.47  \n",
      "\n",
      "[419 rows x 9 columns]\n"
     ]
    }
   ]
  },
  {
   "cell_type": "markdown",
   "source": [
    "Task 2: 6)"
   ],
   "metadata": {
    "id": "gYVg5_hLDZXf"
   }
  },
  {
   "cell_type": "code",
   "source": [
    "tmp = new_df.sort_values('talk_time',ascending=False).head(3)\n",
    "print('max talk time is: ', tmp['talk_time'].sum())\n",
    "print(tmp)"
   ],
   "metadata": {
    "colab": {
     "base_uri": "https://localhost:8080/"
    },
    "id": "YR3XuFW1DcRZ",
    "outputId": "8324e0c1-24b3-47ae-f3a0-037d058171cb"
   },
   "execution_count": 49,
   "outputs": [
    {
     "output_type": "stream",
     "name": "stdout",
     "text": [
      "max talk time is:  60\n",
      "        id  battery_power   ram  talk_time bluetooth cores     sim     memory  \\\n",
      "1397  1397            717   629         20        No  octa    Dual  14.272461   \n",
      "707    707           1591  3703         20       Yes  hexa  Single  48.618164   \n",
      "655    655           1994  3622         20        No  octa    Dual   7.250977   \n",
      "\n",
      "        price  \n",
      "1397   680.89  \n",
      "707   1174.41  \n",
      "655   1416.22  \n"
     ]
    }
   ]
  }
 ],
 "metadata": {
  "kernelspec": {
   "display_name": "Python 3",
   "language": "python",
   "name": "python3"
  },
  "language_info": {
   "codemirror_mode": {
    "name": "ipython",
    "version": 2
   },
   "file_extension": ".py",
   "mimetype": "text/x-python",
   "name": "python",
   "nbconvert_exporter": "python",
   "pygments_lexer": "ipython2",
   "version": "2.7.6"
  },
  "colab": {
   "provenance": []
  }
 },
 "nbformat": 4,
 "nbformat_minor": 0
}
